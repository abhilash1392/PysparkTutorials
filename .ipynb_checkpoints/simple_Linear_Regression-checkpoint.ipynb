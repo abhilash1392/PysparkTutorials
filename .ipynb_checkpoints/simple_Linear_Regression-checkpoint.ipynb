{
 "cells": [
  {
   "cell_type": "code",
   "execution_count": 1,
   "id": "006c651e-a121-43b0-bb79-71774baaf58d",
   "metadata": {},
   "outputs": [],
   "source": [
    "from pyspark.sql import SparkSession"
   ]
  },
  {
   "cell_type": "code",
   "execution_count": 2,
   "id": "b97db7d4-cdd0-4231-ba72-1579e72b4160",
   "metadata": {},
   "outputs": [],
   "source": [
    "spark = SparkSession.builder.appName('simpleModel').getOrCreate()"
   ]
  },
  {
   "cell_type": "code",
   "execution_count": 3,
   "id": "e358075b-658b-439e-abc1-9a624749e19f",
   "metadata": {},
   "outputs": [
    {
     "data": {
      "text/html": [
       "\n",
       "            <div>\n",
       "                <p><b>SparkSession - in-memory</b></p>\n",
       "                \n",
       "        <div>\n",
       "            <p><b>SparkContext</b></p>\n",
       "\n",
       "            <p><a href=\"http://DESKTOP-MJHD0JS:4043\">Spark UI</a></p>\n",
       "\n",
       "            <dl>\n",
       "              <dt>Version</dt>\n",
       "                <dd><code>v3.1.2</code></dd>\n",
       "              <dt>Master</dt>\n",
       "                <dd><code>local[*]</code></dd>\n",
       "              <dt>AppName</dt>\n",
       "                <dd><code>simpleModel</code></dd>\n",
       "            </dl>\n",
       "        </div>\n",
       "        \n",
       "            </div>\n",
       "        "
      ],
      "text/plain": [
       "<pyspark.sql.session.SparkSession at 0x1a9d9e15160>"
      ]
     },
     "execution_count": 3,
     "metadata": {},
     "output_type": "execute_result"
    }
   ],
   "source": [
    "spark"
   ]
  },
  {
   "cell_type": "code",
   "execution_count": 4,
   "id": "aa51bf3f-95f8-4328-9633-ec40351b7c37",
   "metadata": {},
   "outputs": [
    {
     "name": "stdout",
     "output_type": "stream",
     "text": [
      "+---------+----+----------+------+\n",
      "|     Name| age|Experience|Salary|\n",
      "+---------+----+----------+------+\n",
      "|    Krish|  31|        10| 30000|\n",
      "|Sudhanshu|  30|         8| 25000|\n",
      "|    Sunny|  29|         4| 20000|\n",
      "|     Paul|  24|         3| 20000|\n",
      "|   Harsha|  21|         1| 15000|\n",
      "|  Shubham|  23|         2| 18000|\n",
      "|   Mahesh|null|      null| 40000|\n",
      "|     null|  34|        10| 38000|\n",
      "|     null|  36|      null|  null|\n",
      "+---------+----+----------+------+\n",
      "\n"
     ]
    }
   ],
   "source": [
    "df_spark = spark.read.csv('test2.csv',header=True,inferSchema=True)\n",
    "df_spark.show()"
   ]
  },
  {
   "cell_type": "code",
   "execution_count": 5,
   "id": "c3ebca44-0c8e-4310-9324-e0ffe024b9a6",
   "metadata": {},
   "outputs": [],
   "source": [
    "df_spark = df_spark.na.drop()"
   ]
  },
  {
   "cell_type": "code",
   "execution_count": 7,
   "id": "cf5a25c8-b30c-4e71-85ca-17e0bed9fbea",
   "metadata": {},
   "outputs": [
    {
     "name": "stdout",
     "output_type": "stream",
     "text": [
      "root\n",
      " |-- Name: string (nullable = true)\n",
      " |-- age: integer (nullable = true)\n",
      " |-- Experience: integer (nullable = true)\n",
      " |-- Salary: integer (nullable = true)\n",
      "\n"
     ]
    }
   ],
   "source": [
    "df_spark.printSchema()"
   ]
  },
  {
   "cell_type": "code",
   "execution_count": 10,
   "id": "78e89852-ce01-45e6-9ba8-8c7feeac5663",
   "metadata": {},
   "outputs": [],
   "source": [
    "from pyspark.ml.feature import VectorAssembler\n",
    "\n",
    "assembler = VectorAssembler(inputCols=['age','Experience'],outputCol='Included Features')\n",
    "\n",
    "features = assembler.transform(df_spark)"
   ]
  },
  {
   "cell_type": "code",
   "execution_count": 12,
   "id": "1627d9b6-b092-449a-bd95-d8046b93602c",
   "metadata": {},
   "outputs": [],
   "source": [
    "output = features.select(['Included Features','Salary'])"
   ]
  },
  {
   "cell_type": "code",
   "execution_count": 13,
   "id": "2b7f36a8-f334-4e17-a134-5b9b2f069127",
   "metadata": {},
   "outputs": [
    {
     "name": "stdout",
     "output_type": "stream",
     "text": [
      "+-----------------+------+\n",
      "|Included Features|Salary|\n",
      "+-----------------+------+\n",
      "|      [31.0,10.0]| 30000|\n",
      "|       [30.0,8.0]| 25000|\n",
      "|       [29.0,4.0]| 20000|\n",
      "|       [24.0,3.0]| 20000|\n",
      "|       [21.0,1.0]| 15000|\n",
      "|       [23.0,2.0]| 18000|\n",
      "+-----------------+------+\n",
      "\n"
     ]
    }
   ],
   "source": [
    "output.show()"
   ]
  },
  {
   "cell_type": "code",
   "execution_count": 29,
   "id": "53be762f-819d-4292-b91c-714e6275f62e",
   "metadata": {},
   "outputs": [],
   "source": [
    "from pyspark.ml.regression import LinearRegression\n",
    "\n",
    "train_data,test_data = output.randomSplit([0.6,0.4])"
   ]
  },
  {
   "cell_type": "code",
   "execution_count": 30,
   "id": "085d0377-7f9f-4f2c-873f-857aec195460",
   "metadata": {},
   "outputs": [],
   "source": [
    "regr = LinearRegression(featuresCol='Included Features',labelCol='Salary')"
   ]
  },
  {
   "cell_type": "code",
   "execution_count": 31,
   "id": "6f60a129-71bb-4b3a-aa78-edba8301b038",
   "metadata": {},
   "outputs": [],
   "source": [
    "regr=regr.fit(train_data)"
   ]
  },
  {
   "cell_type": "code",
   "execution_count": 32,
   "id": "04235626-7769-468e-8a2e-a6d1c98e1ef8",
   "metadata": {},
   "outputs": [
    {
     "data": {
      "text/plain": [
       "DenseVector([1771.9298, -298.2456])"
      ]
     },
     "execution_count": 32,
     "metadata": {},
     "output_type": "execute_result"
    }
   ],
   "source": [
    "regr.coefficients"
   ]
  },
  {
   "cell_type": "code",
   "execution_count": 33,
   "id": "3000a4e8-0cb2-4495-a8d3-c7991e9f9116",
   "metadata": {},
   "outputs": [
    {
     "data": {
      "text/plain": [
       "-21912.28070175451"
      ]
     },
     "execution_count": 33,
     "metadata": {},
     "output_type": "execute_result"
    }
   ],
   "source": [
    "regr.intercept"
   ]
  },
  {
   "cell_type": "code",
   "execution_count": 34,
   "id": "61178cb0-0852-4944-892d-388fd6a3ef9a",
   "metadata": {},
   "outputs": [],
   "source": [
    "pred_output = regr.evaluate(test_data)"
   ]
  },
  {
   "cell_type": "code",
   "execution_count": 35,
   "id": "ad32e947-4503-4b73-a919-55c88724b813",
   "metadata": {},
   "outputs": [
    {
     "name": "stdout",
     "output_type": "stream",
     "text": [
      "+-----------------+------+------------------+\n",
      "|Included Features|Salary|        prediction|\n",
      "+-----------------+------+------------------+\n",
      "|       [29.0,4.0]| 20000|28280.701754385987|\n",
      "|       [30.0,8.0]| 25000|28859.649122807026|\n",
      "+-----------------+------+------------------+\n",
      "\n"
     ]
    }
   ],
   "source": [
    "pred_output.predictions.show()"
   ]
  },
  {
   "cell_type": "code",
   "execution_count": 36,
   "id": "ab377d31-c5c3-46f9-a74b-c490ab42a02f",
   "metadata": {},
   "outputs": [
    {
     "data": {
      "text/plain": [
       "(6070.175438596507, 41733456.44813812)"
      ]
     },
     "execution_count": 36,
     "metadata": {},
     "output_type": "execute_result"
    }
   ],
   "source": [
    "pred_output.meanAbsoluteError,pred_output.meanSquaredError"
   ]
  }
 ],
 "metadata": {
  "kernelspec": {
   "display_name": "Python 3",
   "language": "python",
   "name": "python3"
  },
  "language_info": {
   "codemirror_mode": {
    "name": "ipython",
    "version": 3
   },
   "file_extension": ".py",
   "mimetype": "text/x-python",
   "name": "python",
   "nbconvert_exporter": "python",
   "pygments_lexer": "ipython3",
   "version": "3.8.6"
  }
 },
 "nbformat": 4,
 "nbformat_minor": 5
}
