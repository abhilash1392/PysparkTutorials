{
 "cells": [
  {
   "cell_type": "code",
   "execution_count": 1,
   "id": "a315d48c-f642-42da-9305-b7e1b10ebe52",
   "metadata": {},
   "outputs": [],
   "source": [
    "from pyspark.sql import SparkSession"
   ]
  },
  {
   "cell_type": "code",
   "execution_count": 2,
   "id": "17fc6703-806a-453e-8a0e-8ee7036f5d60",
   "metadata": {},
   "outputs": [],
   "source": [
    "spark = SparkSession.builder.appName('multiModel').getOrCreate()"
   ]
  },
  {
   "cell_type": "code",
   "execution_count": 3,
   "id": "ff3a794a-4f56-4f04-a077-78d667e92d01",
   "metadata": {},
   "outputs": [
    {
     "data": {
      "text/html": [
       "\n",
       "            <div>\n",
       "                <p><b>SparkSession - in-memory</b></p>\n",
       "                \n",
       "        <div>\n",
       "            <p><b>SparkContext</b></p>\n",
       "\n",
       "            <p><a href=\"http://DESKTOP-MJHD0JS:4044\">Spark UI</a></p>\n",
       "\n",
       "            <dl>\n",
       "              <dt>Version</dt>\n",
       "                <dd><code>v3.1.2</code></dd>\n",
       "              <dt>Master</dt>\n",
       "                <dd><code>local[*]</code></dd>\n",
       "              <dt>AppName</dt>\n",
       "                <dd><code>multiModel</code></dd>\n",
       "            </dl>\n",
       "        </div>\n",
       "        \n",
       "            </div>\n",
       "        "
      ],
      "text/plain": [
       "<pyspark.sql.session.SparkSession at 0x21c36445370>"
      ]
     },
     "execution_count": 3,
     "metadata": {},
     "output_type": "execute_result"
    }
   ],
   "source": [
    "spark"
   ]
  },
  {
   "cell_type": "code",
   "execution_count": 4,
   "id": "4d1ce2f0-7b92-4af5-b5f5-63249e4d896b",
   "metadata": {},
   "outputs": [
    {
     "name": "stdout",
     "output_type": "stream",
     "text": [
      "+----------+----+------+------+---+------+----+\n",
      "|total_bill| tip|   sex|smoker|day|  time|size|\n",
      "+----------+----+------+------+---+------+----+\n",
      "|     16.99|1.01|Female|    No|Sun|Dinner|   2|\n",
      "|     10.34|1.66|  Male|    No|Sun|Dinner|   3|\n",
      "|     21.01| 3.5|  Male|    No|Sun|Dinner|   3|\n",
      "|     23.68|3.31|  Male|    No|Sun|Dinner|   2|\n",
      "|     24.59|3.61|Female|    No|Sun|Dinner|   4|\n",
      "|     25.29|4.71|  Male|    No|Sun|Dinner|   4|\n",
      "|      8.77| 2.0|  Male|    No|Sun|Dinner|   2|\n",
      "|     26.88|3.12|  Male|    No|Sun|Dinner|   4|\n",
      "|     15.04|1.96|  Male|    No|Sun|Dinner|   2|\n",
      "|     14.78|3.23|  Male|    No|Sun|Dinner|   2|\n",
      "|     10.27|1.71|  Male|    No|Sun|Dinner|   2|\n",
      "|     35.26| 5.0|Female|    No|Sun|Dinner|   4|\n",
      "|     15.42|1.57|  Male|    No|Sun|Dinner|   2|\n",
      "|     18.43| 3.0|  Male|    No|Sun|Dinner|   4|\n",
      "|     14.83|3.02|Female|    No|Sun|Dinner|   2|\n",
      "|     21.58|3.92|  Male|    No|Sun|Dinner|   2|\n",
      "|     10.33|1.67|Female|    No|Sun|Dinner|   3|\n",
      "|     16.29|3.71|  Male|    No|Sun|Dinner|   3|\n",
      "|     16.97| 3.5|Female|    No|Sun|Dinner|   3|\n",
      "|     20.65|3.35|  Male|    No|Sat|Dinner|   3|\n",
      "+----------+----+------+------+---+------+----+\n",
      "only showing top 20 rows\n",
      "\n"
     ]
    }
   ],
   "source": [
    "df = spark.read.csv('tips.csv',header=True,inferSchema=True)\n",
    "df.show()"
   ]
  },
  {
   "cell_type": "code",
   "execution_count": 5,
   "id": "cf906085-ad83-465f-9dee-76bf250e8020",
   "metadata": {},
   "outputs": [],
   "source": [
    "from pyspark.ml.feature import StringIndexer\n",
    "\n",
    "indexer = StringIndexer(inputCols=['sex','smoker','day','time'],\n",
    "                       outputCols=['sex_index','smoker_index','day_index','time_index'])\n",
    "df_encoded = indexer.fit(df).transform(df)"
   ]
  },
  {
   "cell_type": "code",
   "execution_count": 6,
   "id": "e39c9df3-3a86-4228-9b1d-554cc80b6573",
   "metadata": {},
   "outputs": [],
   "source": [
    "from pyspark.ml.feature import OneHotEncoder\n",
    "\n",
    "onehot = OneHotEncoder(inputCols=['sex_index','smoker_index','day_index','time_index'],\n",
    "                      outputCols=['sex_onehot','smoker_onehot','day_onehot','time_onehot'])\n",
    "df_onehot = onehot.fit(df_encoded).transform(df_encoded)"
   ]
  },
  {
   "cell_type": "code",
   "execution_count": 7,
   "id": "e9b2f89c-4a28-4d1a-957e-995d835ac254",
   "metadata": {},
   "outputs": [
    {
     "name": "stdout",
     "output_type": "stream",
     "text": [
      "root\n",
      " |-- total_bill: double (nullable = true)\n",
      " |-- tip: double (nullable = true)\n",
      " |-- sex: string (nullable = true)\n",
      " |-- smoker: string (nullable = true)\n",
      " |-- day: string (nullable = true)\n",
      " |-- time: string (nullable = true)\n",
      " |-- size: integer (nullable = true)\n",
      " |-- sex_index: double (nullable = false)\n",
      " |-- smoker_index: double (nullable = false)\n",
      " |-- day_index: double (nullable = false)\n",
      " |-- time_index: double (nullable = false)\n",
      " |-- sex_onehot: vector (nullable = true)\n",
      " |-- smoker_onehot: vector (nullable = true)\n",
      " |-- day_onehot: vector (nullable = true)\n",
      " |-- time_onehot: vector (nullable = true)\n",
      "\n"
     ]
    }
   ],
   "source": [
    "df_onehot.printSchema()"
   ]
  },
  {
   "cell_type": "code",
   "execution_count": 8,
   "id": "55a18d54-597e-4a48-bf88-289e65ad6310",
   "metadata": {},
   "outputs": [
    {
     "data": {
      "text/plain": [
       "['total_bill',\n",
       " 'tip',\n",
       " 'sex',\n",
       " 'smoker',\n",
       " 'day',\n",
       " 'time',\n",
       " 'size',\n",
       " 'sex_index',\n",
       " 'smoker_index',\n",
       " 'day_index',\n",
       " 'time_index',\n",
       " 'sex_onehot',\n",
       " 'smoker_onehot',\n",
       " 'day_onehot',\n",
       " 'time_onehot']"
      ]
     },
     "execution_count": 8,
     "metadata": {},
     "output_type": "execute_result"
    }
   ],
   "source": [
    "df_onehot.columns"
   ]
  },
  {
   "cell_type": "code",
   "execution_count": 9,
   "id": "d0a8d0b1-cc5d-4d84-a831-173ee75c9347",
   "metadata": {},
   "outputs": [],
   "source": [
    "from pyspark.ml.feature import VectorAssembler\n",
    "\n",
    "assembler = VectorAssembler(inputCols=['total_bill','size','sex_onehot','smoker_onehot','day_onehot','time_onehot'],outputCol='Independent features')\n",
    "output = assembler.transform(df_onehot)"
   ]
  },
  {
   "cell_type": "code",
   "execution_count": 10,
   "id": "22b8606d-dcaf-492e-a4ea-f4a12c05a259",
   "metadata": {},
   "outputs": [
    {
     "name": "stdout",
     "output_type": "stream",
     "text": [
      "+--------------------+\n",
      "|Independent features|\n",
      "+--------------------+\n",
      "|[16.99,2.0,0.0,1....|\n",
      "|[10.34,3.0,1.0,1....|\n",
      "|[21.01,3.0,1.0,1....|\n",
      "|[23.68,2.0,1.0,1....|\n",
      "|[24.59,4.0,0.0,1....|\n",
      "|[25.29,4.0,1.0,1....|\n",
      "|[8.77,2.0,1.0,1.0...|\n",
      "|[26.88,4.0,1.0,1....|\n",
      "|[15.04,2.0,1.0,1....|\n",
      "|[14.78,2.0,1.0,1....|\n",
      "|[10.27,2.0,1.0,1....|\n",
      "|[35.26,4.0,0.0,1....|\n",
      "|[15.42,2.0,1.0,1....|\n",
      "|[18.43,4.0,1.0,1....|\n",
      "|[14.83,2.0,0.0,1....|\n",
      "|[21.58,2.0,1.0,1....|\n",
      "|[10.33,3.0,0.0,1....|\n",
      "|[16.29,3.0,1.0,1....|\n",
      "|[16.97,3.0,0.0,1....|\n",
      "|[20.65,3.0,1.0,1....|\n",
      "+--------------------+\n",
      "only showing top 20 rows\n",
      "\n"
     ]
    }
   ],
   "source": [
    "output.select('Independent features').show()"
   ]
  },
  {
   "cell_type": "code",
   "execution_count": 11,
   "id": "f5098064-e25c-4658-946a-8f37f9ba3dac",
   "metadata": {},
   "outputs": [],
   "source": [
    "finalized_data = output.select(['Independent features','tip'])"
   ]
  },
  {
   "cell_type": "code",
   "execution_count": 12,
   "id": "2385f7b2-df40-4dbf-84b0-7263324ff378",
   "metadata": {},
   "outputs": [],
   "source": [
    "from pyspark.ml.regression import LinearRegression\n",
    "\n",
    "regr = LinearRegression(featuresCol='Independent features',labelCol='tip')"
   ]
  },
  {
   "cell_type": "code",
   "execution_count": 13,
   "id": "0bb3d3b7-69c2-4a84-83c6-9ecffd8c9097",
   "metadata": {},
   "outputs": [],
   "source": [
    "train_data,test_data=finalized_data.randomSplit([0.75,0.25])"
   ]
  },
  {
   "cell_type": "code",
   "execution_count": 14,
   "id": "f6fc66c8-8a63-48d5-9c14-db011127b92b",
   "metadata": {},
   "outputs": [],
   "source": [
    "regr=regr.fit(train_data)"
   ]
  },
  {
   "cell_type": "code",
   "execution_count": 15,
   "id": "3cb568e1-374a-4336-85f1-a8b35bad06a2",
   "metadata": {},
   "outputs": [
    {
     "data": {
      "text/plain": [
       "DenseVector([0.0795, 0.2782, 0.104, 0.1406, -0.5185, -0.2089, -0.1727, 0.162])"
      ]
     },
     "execution_count": 15,
     "metadata": {},
     "output_type": "execute_result"
    }
   ],
   "source": [
    "regr.coefficients"
   ]
  },
  {
   "cell_type": "code",
   "execution_count": 16,
   "id": "9d7d99f5-a3e0-4463-b746-a9d1c898c0b5",
   "metadata": {},
   "outputs": [
    {
     "data": {
      "text/plain": [
       "0.7718044489786926"
      ]
     },
     "execution_count": 16,
     "metadata": {},
     "output_type": "execute_result"
    }
   ],
   "source": [
    "regr.intercept"
   ]
  },
  {
   "cell_type": "code",
   "execution_count": 18,
   "id": "549051f2-9687-4f1d-aa90-38424920cf43",
   "metadata": {},
   "outputs": [],
   "source": [
    "predictions= regr.evaluate(test_data)"
   ]
  },
  {
   "cell_type": "code",
   "execution_count": 19,
   "id": "38d0ca16-0589-45d3-b816-1101b84fbec8",
   "metadata": {},
   "outputs": [
    {
     "name": "stdout",
     "output_type": "stream",
     "text": [
      "+--------------------+----+------------------+\n",
      "|Independent features| tip|        prediction|\n",
      "+--------------------+----+------------------+\n",
      "|(8,[0,1,2],[12.16...| 2.2|2.3984645091540697|\n",
      "|(8,[0,1,2,6],[10....| 2.0|2.0811585372635255|\n",
      "|(8,[0,1,2,6],[16....| 2.0| 2.530881769036042|\n",
      "|(8,[0,1,2,6],[19....| 3.0|2.8042117897599734|\n",
      "|(8,[0,1,2,7],[12....| 1.5|2.5501019179366997|\n",
      "|(8,[0,1,2,7],[21....| 3.0|3.2636204022683586|\n",
      "|(8,[0,1,2,7],[28....| 3.0| 3.896093357199317|\n",
      "|(8,[0,1,3],[15.98...| 3.0| 3.016816670841422|\n",
      "|(8,[0,1,3,6],[8.5...|1.25| 1.972337863329255|\n",
      "|(8,[0,1,3,6],[13....|1.68|2.3624687940718436|\n",
      "|(8,[0,1,3,6],[14....| 2.0| 2.420471967074306|\n",
      "|(8,[0,1,3,6],[17....| 3.5|2.6842672196334494|\n",
      "|(8,[0,1,3,6],[18....|1.36| 3.055475377102974|\n",
      "|(8,[0,1,3,7],[22....|3.25|  3.43845908123654|\n",
      "|(8,[0,1,4,7],[14....| 4.0| 2.108766885710804|\n",
      "|(8,[0,1,4,7],[22....|2.88| 2.729321380435777|\n",
      "|(8,[0,1,4,7],[22....|3.48| 2.753158300847748|\n",
      "|(8,[0,1,4,7],[26....|3.14|3.1059447229449155|\n",
      "|(8,[0,1,4,7],[28....| 6.5|3.4882767766066936|\n",
      "|(8,[0,1,4,7],[30....|3.09| 3.923050055174807|\n",
      "+--------------------+----+------------------+\n",
      "only showing top 20 rows\n",
      "\n"
     ]
    }
   ],
   "source": [
    "predictions.predictions.show()"
   ]
  },
  {
   "cell_type": "code",
   "execution_count": 20,
   "id": "8f912f1f-983c-4a6c-ad9c-05824a8f4284",
   "metadata": {},
   "outputs": [
    {
     "data": {
      "text/plain": [
       "(0.7985874322281933, 1.2656114935381209, 0.2862391893783953)"
      ]
     },
     "execution_count": 20,
     "metadata": {},
     "output_type": "execute_result"
    }
   ],
   "source": [
    "predictions.meanAbsoluteError,predictions.meanSquaredError,predictions.r2adj"
   ]
  }
 ],
 "metadata": {
  "kernelspec": {
   "display_name": "Python 3",
   "language": "python",
   "name": "python3"
  },
  "language_info": {
   "codemirror_mode": {
    "name": "ipython",
    "version": 3
   },
   "file_extension": ".py",
   "mimetype": "text/x-python",
   "name": "python",
   "nbconvert_exporter": "python",
   "pygments_lexer": "ipython3",
   "version": "3.8.6"
  }
 },
 "nbformat": 4,
 "nbformat_minor": 5
}
